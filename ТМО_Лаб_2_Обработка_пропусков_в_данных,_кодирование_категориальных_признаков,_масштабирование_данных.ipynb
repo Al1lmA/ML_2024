{
  "nbformat": 4,
  "nbformat_minor": 0,
  "metadata": {
    "colab": {
      "provenance": [],
      "toc_visible": true,
      "authorship_tag": "ABX9TyPvseimjVRjFtTH3y4GULR7"
    },
    "kernelspec": {
      "name": "python3",
      "display_name": "Python 3"
    },
    "language_info": {
      "name": "python"
    }
  },
  "cells": [
    {
      "cell_type": "markdown",
      "source": [
        "Жданова Яна ИУ5-64Б"
      ],
      "metadata": {
        "id": "VnZD2GVG3hZJ"
      }
    },
    {
      "cell_type": "markdown",
      "source": [
        "# Лабораторная работа 2\n",
        "# Обработка пропусков в данных, кодирование категориальных признаков, масштабирование данных.\n",
        "# Задание\n",
        "Выбрать набор данных (датасет), содержащий категориальные признаки и пропуски в данных. Для выполнения следующих пунктов можно использовать несколько различных наборов данных (один для обработки пропусков, другой для категориальных признаков и т.д.)\n",
        "\n",
        "Для выбранного датасета (датасетов) на основе материалов лекции решить следующие задачи:\n",
        "* обработку пропусков в данных;\n",
        "* кодирование категориальных признаков;\n",
        "* масштабирование данных.\n"
      ],
      "metadata": {
        "id": "YFal_FRR3qYF"
      }
    },
    {
      "cell_type": "markdown",
      "source": [
        "## Импорт библиотек и данных"
      ],
      "metadata": {
        "id": "lRw8_PCa4X6y"
      }
    },
    {
      "cell_type": "code",
      "execution_count": null,
      "metadata": {
        "id": "Yb8xvAwYuywP"
      },
      "outputs": [],
      "source": [
        "import numpy as np\n",
        "import pandas as pd\n",
        "import seaborn as sns\n",
        "import matplotlib.pyplot as plt\n",
        "%matplotlib inline\n",
        "sns.set(style=\"ticks\")"
      ]
    },
    {
      "cell_type": "code",
      "source": [
        "df = pd.read_csv('Global YouTube Statistics.csv', encoding = 'ISO-8859-1')"
      ],
      "metadata": {
        "id": "FFZfku-WvobK"
      },
      "execution_count": null,
      "outputs": []
    },
    {
      "cell_type": "code",
      "source": [
        "df.head()"
      ],
      "metadata": {
        "colab": {
          "base_uri": "https://localhost:8080/",
          "height": 394
        },
        "id": "vWEjee2nvxu2",
        "outputId": "8e1b9dff-c253-4b82-f357-9d5bacdd4f07"
      },
      "execution_count": null,
      "outputs": [
        {
          "output_type": "execute_result",
          "data": {
            "text/plain": [
              "   rank                    Youtuber  subscribers   video views  \\\n",
              "0     1                    T-Series    245000000  2.280000e+11   \n",
              "1     2              YouTube Movies    170000000  0.000000e+00   \n",
              "2     3                     MrBeast    166000000  2.836884e+10   \n",
              "3     4  Cocomelon - Nursery Rhymes    162000000  1.640000e+11   \n",
              "4     5                   SET India    159000000  1.480000e+11   \n",
              "\n",
              "           category                       Title  uploads        Country  \\\n",
              "0             Music                    T-Series    20082          India   \n",
              "1  Film & Animation               youtubemovies        1  United States   \n",
              "2     Entertainment                     MrBeast      741  United States   \n",
              "3         Education  Cocomelon - Nursery Rhymes      966  United States   \n",
              "4             Shows                   SET India   116536          India   \n",
              "\n",
              "  Abbreviation   channel_type  ...  subscribers_for_last_30_days  \\\n",
              "0           IN          Music  ...                     2000000.0   \n",
              "1           US          Games  ...                           NaN   \n",
              "2           US  Entertainment  ...                     8000000.0   \n",
              "3           US      Education  ...                     1000000.0   \n",
              "4           IN  Entertainment  ...                     1000000.0   \n",
              "\n",
              "   created_year  created_month  created_date  \\\n",
              "0        2006.0            Mar          13.0   \n",
              "1        2006.0            Mar           5.0   \n",
              "2        2012.0            Feb          20.0   \n",
              "3        2006.0            Sep           1.0   \n",
              "4        2006.0            Sep          20.0   \n",
              "\n",
              "   Gross tertiary education enrollment (%)    Population  Unemployment rate  \\\n",
              "0                                     28.1  1.366418e+09               5.36   \n",
              "1                                     88.2  3.282395e+08              14.70   \n",
              "2                                     88.2  3.282395e+08              14.70   \n",
              "3                                     88.2  3.282395e+08              14.70   \n",
              "4                                     28.1  1.366418e+09               5.36   \n",
              "\n",
              "   Urban_population   Latitude  Longitude  \n",
              "0       471031528.0  20.593684  78.962880  \n",
              "1       270663028.0  37.090240 -95.712891  \n",
              "2       270663028.0  37.090240 -95.712891  \n",
              "3       270663028.0  37.090240 -95.712891  \n",
              "4       471031528.0  20.593684  78.962880  \n",
              "\n",
              "[5 rows x 28 columns]"
            ],
            "text/html": [
              "\n",
              "  <div id=\"df-db2bad4f-fca2-4ca7-8041-335c80f8b2c0\" class=\"colab-df-container\">\n",
              "    <div>\n",
              "<style scoped>\n",
              "    .dataframe tbody tr th:only-of-type {\n",
              "        vertical-align: middle;\n",
              "    }\n",
              "\n",
              "    .dataframe tbody tr th {\n",
              "        vertical-align: top;\n",
              "    }\n",
              "\n",
              "    .dataframe thead th {\n",
              "        text-align: right;\n",
              "    }\n",
              "</style>\n",
              "<table border=\"1\" class=\"dataframe\">\n",
              "  <thead>\n",
              "    <tr style=\"text-align: right;\">\n",
              "      <th></th>\n",
              "      <th>rank</th>\n",
              "      <th>Youtuber</th>\n",
              "      <th>subscribers</th>\n",
              "      <th>video views</th>\n",
              "      <th>category</th>\n",
              "      <th>Title</th>\n",
              "      <th>uploads</th>\n",
              "      <th>Country</th>\n",
              "      <th>Abbreviation</th>\n",
              "      <th>channel_type</th>\n",
              "      <th>...</th>\n",
              "      <th>subscribers_for_last_30_days</th>\n",
              "      <th>created_year</th>\n",
              "      <th>created_month</th>\n",
              "      <th>created_date</th>\n",
              "      <th>Gross tertiary education enrollment (%)</th>\n",
              "      <th>Population</th>\n",
              "      <th>Unemployment rate</th>\n",
              "      <th>Urban_population</th>\n",
              "      <th>Latitude</th>\n",
              "      <th>Longitude</th>\n",
              "    </tr>\n",
              "  </thead>\n",
              "  <tbody>\n",
              "    <tr>\n",
              "      <th>0</th>\n",
              "      <td>1</td>\n",
              "      <td>T-Series</td>\n",
              "      <td>245000000</td>\n",
              "      <td>2.280000e+11</td>\n",
              "      <td>Music</td>\n",
              "      <td>T-Series</td>\n",
              "      <td>20082</td>\n",
              "      <td>India</td>\n",
              "      <td>IN</td>\n",
              "      <td>Music</td>\n",
              "      <td>...</td>\n",
              "      <td>2000000.0</td>\n",
              "      <td>2006.0</td>\n",
              "      <td>Mar</td>\n",
              "      <td>13.0</td>\n",
              "      <td>28.1</td>\n",
              "      <td>1.366418e+09</td>\n",
              "      <td>5.36</td>\n",
              "      <td>471031528.0</td>\n",
              "      <td>20.593684</td>\n",
              "      <td>78.962880</td>\n",
              "    </tr>\n",
              "    <tr>\n",
              "      <th>1</th>\n",
              "      <td>2</td>\n",
              "      <td>YouTube Movies</td>\n",
              "      <td>170000000</td>\n",
              "      <td>0.000000e+00</td>\n",
              "      <td>Film &amp; Animation</td>\n",
              "      <td>youtubemovies</td>\n",
              "      <td>1</td>\n",
              "      <td>United States</td>\n",
              "      <td>US</td>\n",
              "      <td>Games</td>\n",
              "      <td>...</td>\n",
              "      <td>NaN</td>\n",
              "      <td>2006.0</td>\n",
              "      <td>Mar</td>\n",
              "      <td>5.0</td>\n",
              "      <td>88.2</td>\n",
              "      <td>3.282395e+08</td>\n",
              "      <td>14.70</td>\n",
              "      <td>270663028.0</td>\n",
              "      <td>37.090240</td>\n",
              "      <td>-95.712891</td>\n",
              "    </tr>\n",
              "    <tr>\n",
              "      <th>2</th>\n",
              "      <td>3</td>\n",
              "      <td>MrBeast</td>\n",
              "      <td>166000000</td>\n",
              "      <td>2.836884e+10</td>\n",
              "      <td>Entertainment</td>\n",
              "      <td>MrBeast</td>\n",
              "      <td>741</td>\n",
              "      <td>United States</td>\n",
              "      <td>US</td>\n",
              "      <td>Entertainment</td>\n",
              "      <td>...</td>\n",
              "      <td>8000000.0</td>\n",
              "      <td>2012.0</td>\n",
              "      <td>Feb</td>\n",
              "      <td>20.0</td>\n",
              "      <td>88.2</td>\n",
              "      <td>3.282395e+08</td>\n",
              "      <td>14.70</td>\n",
              "      <td>270663028.0</td>\n",
              "      <td>37.090240</td>\n",
              "      <td>-95.712891</td>\n",
              "    </tr>\n",
              "    <tr>\n",
              "      <th>3</th>\n",
              "      <td>4</td>\n",
              "      <td>Cocomelon - Nursery Rhymes</td>\n",
              "      <td>162000000</td>\n",
              "      <td>1.640000e+11</td>\n",
              "      <td>Education</td>\n",
              "      <td>Cocomelon - Nursery Rhymes</td>\n",
              "      <td>966</td>\n",
              "      <td>United States</td>\n",
              "      <td>US</td>\n",
              "      <td>Education</td>\n",
              "      <td>...</td>\n",
              "      <td>1000000.0</td>\n",
              "      <td>2006.0</td>\n",
              "      <td>Sep</td>\n",
              "      <td>1.0</td>\n",
              "      <td>88.2</td>\n",
              "      <td>3.282395e+08</td>\n",
              "      <td>14.70</td>\n",
              "      <td>270663028.0</td>\n",
              "      <td>37.090240</td>\n",
              "      <td>-95.712891</td>\n",
              "    </tr>\n",
              "    <tr>\n",
              "      <th>4</th>\n",
              "      <td>5</td>\n",
              "      <td>SET India</td>\n",
              "      <td>159000000</td>\n",
              "      <td>1.480000e+11</td>\n",
              "      <td>Shows</td>\n",
              "      <td>SET India</td>\n",
              "      <td>116536</td>\n",
              "      <td>India</td>\n",
              "      <td>IN</td>\n",
              "      <td>Entertainment</td>\n",
              "      <td>...</td>\n",
              "      <td>1000000.0</td>\n",
              "      <td>2006.0</td>\n",
              "      <td>Sep</td>\n",
              "      <td>20.0</td>\n",
              "      <td>28.1</td>\n",
              "      <td>1.366418e+09</td>\n",
              "      <td>5.36</td>\n",
              "      <td>471031528.0</td>\n",
              "      <td>20.593684</td>\n",
              "      <td>78.962880</td>\n",
              "    </tr>\n",
              "  </tbody>\n",
              "</table>\n",
              "<p>5 rows × 28 columns</p>\n",
              "</div>\n",
              "    <div class=\"colab-df-buttons\">\n",
              "\n",
              "  <div class=\"colab-df-container\">\n",
              "    <button class=\"colab-df-convert\" onclick=\"convertToInteractive('df-db2bad4f-fca2-4ca7-8041-335c80f8b2c0')\"\n",
              "            title=\"Convert this dataframe to an interactive table.\"\n",
              "            style=\"display:none;\">\n",
              "\n",
              "  <svg xmlns=\"http://www.w3.org/2000/svg\" height=\"24px\" viewBox=\"0 -960 960 960\">\n",
              "    <path d=\"M120-120v-720h720v720H120Zm60-500h600v-160H180v160Zm220 220h160v-160H400v160Zm0 220h160v-160H400v160ZM180-400h160v-160H180v160Zm440 0h160v-160H620v160ZM180-180h160v-160H180v160Zm440 0h160v-160H620v160Z\"/>\n",
              "  </svg>\n",
              "    </button>\n",
              "\n",
              "  <style>\n",
              "    .colab-df-container {\n",
              "      display:flex;\n",
              "      gap: 12px;\n",
              "    }\n",
              "\n",
              "    .colab-df-convert {\n",
              "      background-color: #E8F0FE;\n",
              "      border: none;\n",
              "      border-radius: 50%;\n",
              "      cursor: pointer;\n",
              "      display: none;\n",
              "      fill: #1967D2;\n",
              "      height: 32px;\n",
              "      padding: 0 0 0 0;\n",
              "      width: 32px;\n",
              "    }\n",
              "\n",
              "    .colab-df-convert:hover {\n",
              "      background-color: #E2EBFA;\n",
              "      box-shadow: 0px 1px 2px rgba(60, 64, 67, 0.3), 0px 1px 3px 1px rgba(60, 64, 67, 0.15);\n",
              "      fill: #174EA6;\n",
              "    }\n",
              "\n",
              "    .colab-df-buttons div {\n",
              "      margin-bottom: 4px;\n",
              "    }\n",
              "\n",
              "    [theme=dark] .colab-df-convert {\n",
              "      background-color: #3B4455;\n",
              "      fill: #D2E3FC;\n",
              "    }\n",
              "\n",
              "    [theme=dark] .colab-df-convert:hover {\n",
              "      background-color: #434B5C;\n",
              "      box-shadow: 0px 1px 3px 1px rgba(0, 0, 0, 0.15);\n",
              "      filter: drop-shadow(0px 1px 2px rgba(0, 0, 0, 0.3));\n",
              "      fill: #FFFFFF;\n",
              "    }\n",
              "  </style>\n",
              "\n",
              "    <script>\n",
              "      const buttonEl =\n",
              "        document.querySelector('#df-db2bad4f-fca2-4ca7-8041-335c80f8b2c0 button.colab-df-convert');\n",
              "      buttonEl.style.display =\n",
              "        google.colab.kernel.accessAllowed ? 'block' : 'none';\n",
              "\n",
              "      async function convertToInteractive(key) {\n",
              "        const element = document.querySelector('#df-db2bad4f-fca2-4ca7-8041-335c80f8b2c0');\n",
              "        const dataTable =\n",
              "          await google.colab.kernel.invokeFunction('convertToInteractive',\n",
              "                                                    [key], {});\n",
              "        if (!dataTable) return;\n",
              "\n",
              "        const docLinkHtml = 'Like what you see? Visit the ' +\n",
              "          '<a target=\"_blank\" href=https://colab.research.google.com/notebooks/data_table.ipynb>data table notebook</a>'\n",
              "          + ' to learn more about interactive tables.';\n",
              "        element.innerHTML = '';\n",
              "        dataTable['output_type'] = 'display_data';\n",
              "        await google.colab.output.renderOutput(dataTable, element);\n",
              "        const docLink = document.createElement('div');\n",
              "        docLink.innerHTML = docLinkHtml;\n",
              "        element.appendChild(docLink);\n",
              "      }\n",
              "    </script>\n",
              "  </div>\n",
              "\n",
              "\n",
              "<div id=\"df-d3b8909f-1743-4eb7-b0fc-3d1c2769851f\">\n",
              "  <button class=\"colab-df-quickchart\" onclick=\"quickchart('df-d3b8909f-1743-4eb7-b0fc-3d1c2769851f')\"\n",
              "            title=\"Suggest charts\"\n",
              "            style=\"display:none;\">\n",
              "\n",
              "<svg xmlns=\"http://www.w3.org/2000/svg\" height=\"24px\"viewBox=\"0 0 24 24\"\n",
              "     width=\"24px\">\n",
              "    <g>\n",
              "        <path d=\"M19 3H5c-1.1 0-2 .9-2 2v14c0 1.1.9 2 2 2h14c1.1 0 2-.9 2-2V5c0-1.1-.9-2-2-2zM9 17H7v-7h2v7zm4 0h-2V7h2v10zm4 0h-2v-4h2v4z\"/>\n",
              "    </g>\n",
              "</svg>\n",
              "  </button>\n",
              "\n",
              "<style>\n",
              "  .colab-df-quickchart {\n",
              "      --bg-color: #E8F0FE;\n",
              "      --fill-color: #1967D2;\n",
              "      --hover-bg-color: #E2EBFA;\n",
              "      --hover-fill-color: #174EA6;\n",
              "      --disabled-fill-color: #AAA;\n",
              "      --disabled-bg-color: #DDD;\n",
              "  }\n",
              "\n",
              "  [theme=dark] .colab-df-quickchart {\n",
              "      --bg-color: #3B4455;\n",
              "      --fill-color: #D2E3FC;\n",
              "      --hover-bg-color: #434B5C;\n",
              "      --hover-fill-color: #FFFFFF;\n",
              "      --disabled-bg-color: #3B4455;\n",
              "      --disabled-fill-color: #666;\n",
              "  }\n",
              "\n",
              "  .colab-df-quickchart {\n",
              "    background-color: var(--bg-color);\n",
              "    border: none;\n",
              "    border-radius: 50%;\n",
              "    cursor: pointer;\n",
              "    display: none;\n",
              "    fill: var(--fill-color);\n",
              "    height: 32px;\n",
              "    padding: 0;\n",
              "    width: 32px;\n",
              "  }\n",
              "\n",
              "  .colab-df-quickchart:hover {\n",
              "    background-color: var(--hover-bg-color);\n",
              "    box-shadow: 0 1px 2px rgba(60, 64, 67, 0.3), 0 1px 3px 1px rgba(60, 64, 67, 0.15);\n",
              "    fill: var(--button-hover-fill-color);\n",
              "  }\n",
              "\n",
              "  .colab-df-quickchart-complete:disabled,\n",
              "  .colab-df-quickchart-complete:disabled:hover {\n",
              "    background-color: var(--disabled-bg-color);\n",
              "    fill: var(--disabled-fill-color);\n",
              "    box-shadow: none;\n",
              "  }\n",
              "\n",
              "  .colab-df-spinner {\n",
              "    border: 2px solid var(--fill-color);\n",
              "    border-color: transparent;\n",
              "    border-bottom-color: var(--fill-color);\n",
              "    animation:\n",
              "      spin 1s steps(1) infinite;\n",
              "  }\n",
              "\n",
              "  @keyframes spin {\n",
              "    0% {\n",
              "      border-color: transparent;\n",
              "      border-bottom-color: var(--fill-color);\n",
              "      border-left-color: var(--fill-color);\n",
              "    }\n",
              "    20% {\n",
              "      border-color: transparent;\n",
              "      border-left-color: var(--fill-color);\n",
              "      border-top-color: var(--fill-color);\n",
              "    }\n",
              "    30% {\n",
              "      border-color: transparent;\n",
              "      border-left-color: var(--fill-color);\n",
              "      border-top-color: var(--fill-color);\n",
              "      border-right-color: var(--fill-color);\n",
              "    }\n",
              "    40% {\n",
              "      border-color: transparent;\n",
              "      border-right-color: var(--fill-color);\n",
              "      border-top-color: var(--fill-color);\n",
              "    }\n",
              "    60% {\n",
              "      border-color: transparent;\n",
              "      border-right-color: var(--fill-color);\n",
              "    }\n",
              "    80% {\n",
              "      border-color: transparent;\n",
              "      border-right-color: var(--fill-color);\n",
              "      border-bottom-color: var(--fill-color);\n",
              "    }\n",
              "    90% {\n",
              "      border-color: transparent;\n",
              "      border-bottom-color: var(--fill-color);\n",
              "    }\n",
              "  }\n",
              "</style>\n",
              "\n",
              "  <script>\n",
              "    async function quickchart(key) {\n",
              "      const quickchartButtonEl =\n",
              "        document.querySelector('#' + key + ' button');\n",
              "      quickchartButtonEl.disabled = true;  // To prevent multiple clicks.\n",
              "      quickchartButtonEl.classList.add('colab-df-spinner');\n",
              "      try {\n",
              "        const charts = await google.colab.kernel.invokeFunction(\n",
              "            'suggestCharts', [key], {});\n",
              "      } catch (error) {\n",
              "        console.error('Error during call to suggestCharts:', error);\n",
              "      }\n",
              "      quickchartButtonEl.classList.remove('colab-df-spinner');\n",
              "      quickchartButtonEl.classList.add('colab-df-quickchart-complete');\n",
              "    }\n",
              "    (() => {\n",
              "      let quickchartButtonEl =\n",
              "        document.querySelector('#df-d3b8909f-1743-4eb7-b0fc-3d1c2769851f button');\n",
              "      quickchartButtonEl.style.display =\n",
              "        google.colab.kernel.accessAllowed ? 'block' : 'none';\n",
              "    })();\n",
              "  </script>\n",
              "</div>\n",
              "    </div>\n",
              "  </div>\n"
            ],
            "application/vnd.google.colaboratory.intrinsic+json": {
              "type": "dataframe",
              "variable_name": "df"
            }
          },
          "metadata": {},
          "execution_count": 12
        }
      ]
    },
    {
      "cell_type": "code",
      "source": [
        "df.shape"
      ],
      "metadata": {
        "colab": {
          "base_uri": "https://localhost:8080/"
        },
        "id": "Jl92UrcPv_j3",
        "outputId": "a4c93f5c-76b3-468f-9702-b7ff148fd600"
      },
      "execution_count": null,
      "outputs": [
        {
          "output_type": "execute_result",
          "data": {
            "text/plain": [
              "(995, 28)"
            ]
          },
          "metadata": {},
          "execution_count": 13
        }
      ]
    },
    {
      "cell_type": "markdown",
      "source": [
        "# Обработка пропущенных данных"
      ],
      "metadata": {
        "id": "5eHIToeX07Ml"
      }
    },
    {
      "cell_type": "code",
      "source": [
        "# проверим есть ли пропущенные значения\n",
        "df.isnull().sum()"
      ],
      "metadata": {
        "colab": {
          "base_uri": "https://localhost:8080/"
        },
        "id": "_5VeW9frwCZS",
        "outputId": "d65885d7-a019-45e0-9129-14b42e944472"
      },
      "execution_count": null,
      "outputs": [
        {
          "output_type": "execute_result",
          "data": {
            "text/plain": [
              "rank                                         0\n",
              "Youtuber                                     0\n",
              "subscribers                                  0\n",
              "video views                                  0\n",
              "category                                    46\n",
              "Title                                        0\n",
              "uploads                                      0\n",
              "Country                                    122\n",
              "Abbreviation                               122\n",
              "channel_type                                30\n",
              "video_views_rank                             1\n",
              "country_rank                               116\n",
              "channel_type_rank                           33\n",
              "video_views_for_the_last_30_days            56\n",
              "lowest_monthly_earnings                      0\n",
              "highest_monthly_earnings                     0\n",
              "lowest_yearly_earnings                       0\n",
              "highest_yearly_earnings                      0\n",
              "subscribers_for_last_30_days               337\n",
              "created_year                                 5\n",
              "created_month                                5\n",
              "created_date                                 5\n",
              "Gross tertiary education enrollment (%)    123\n",
              "Population                                 123\n",
              "Unemployment rate                          123\n",
              "Urban_population                           123\n",
              "Latitude                                   123\n",
              "Longitude                                  123\n",
              "dtype: int64"
            ]
          },
          "metadata": {},
          "execution_count": 14
        }
      ]
    },
    {
      "cell_type": "code",
      "source": [
        "df = df.copy()\n",
        "df.columns = df.columns.str.replace('_', ' ').str.title()\n",
        "df.columns.tolist()"
      ],
      "metadata": {
        "colab": {
          "base_uri": "https://localhost:8080/"
        },
        "id": "cM5uTTWEwRS0",
        "outputId": "3aad58c0-ea98-4a9f-c931-26ac70687d8e"
      },
      "execution_count": null,
      "outputs": [
        {
          "output_type": "execute_result",
          "data": {
            "text/plain": [
              "['Rank',\n",
              " 'Youtuber',\n",
              " 'Subscribers',\n",
              " 'Video Views',\n",
              " 'Category',\n",
              " 'Title',\n",
              " 'Uploads',\n",
              " 'Country',\n",
              " 'Abbreviation',\n",
              " 'Channel Type',\n",
              " 'Video Views Rank',\n",
              " 'Country Rank',\n",
              " 'Channel Type Rank',\n",
              " 'Video Views For The Last 30 Days',\n",
              " 'Lowest Monthly Earnings',\n",
              " 'Highest Monthly Earnings',\n",
              " 'Lowest Yearly Earnings',\n",
              " 'Highest Yearly Earnings',\n",
              " 'Subscribers For Last 30 Days',\n",
              " 'Created Year',\n",
              " 'Created Month',\n",
              " 'Created Date',\n",
              " 'Gross Tertiary Education Enrollment (%)',\n",
              " 'Population',\n",
              " 'Unemployment Rate',\n",
              " 'Urban Population',\n",
              " 'Latitude',\n",
              " 'Longitude']"
            ]
          },
          "metadata": {},
          "execution_count": 15
        }
      ]
    },
    {
      "cell_type": "code",
      "source": [
        "df.info()"
      ],
      "metadata": {
        "colab": {
          "base_uri": "https://localhost:8080/"
        },
        "id": "q2ApHqas1aIU",
        "outputId": "e38d2e5f-7c2d-4850-ccf3-0057c08361c9"
      },
      "execution_count": null,
      "outputs": [
        {
          "output_type": "stream",
          "name": "stdout",
          "text": [
            "<class 'pandas.core.frame.DataFrame'>\n",
            "RangeIndex: 995 entries, 0 to 994\n",
            "Data columns (total 27 columns):\n",
            " #   Column                                   Non-Null Count  Dtype  \n",
            "---  ------                                   --------------  -----  \n",
            " 0   Youtuber                                 995 non-null    object \n",
            " 1   Subscribers                              995 non-null    int64  \n",
            " 2   Video Views                              995 non-null    float64\n",
            " 3   Category                                 995 non-null    object \n",
            " 4   Title                                    995 non-null    object \n",
            " 5   Uploads                                  995 non-null    int64  \n",
            " 6   Country                                  995 non-null    object \n",
            " 7   Abbreviation                             995 non-null    object \n",
            " 8   Channel Type                             995 non-null    object \n",
            " 9   Video Views Rank                         995 non-null    float64\n",
            " 10  Country Rank                             995 non-null    float64\n",
            " 11  Channel Type Rank                        995 non-null    float64\n",
            " 12  Video Views For The Last 30 Days         995 non-null    float64\n",
            " 13  Lowest Monthly Earnings                  995 non-null    float64\n",
            " 14  Highest Monthly Earnings                 995 non-null    float64\n",
            " 15  Lowest Yearly Earnings                   995 non-null    float64\n",
            " 16  Highest Yearly Earnings                  995 non-null    float64\n",
            " 17  Subscribers For Last 30 Days             995 non-null    float64\n",
            " 18  Created Year                             995 non-null    float64\n",
            " 19  Created Month                            995 non-null    object \n",
            " 20  Created Date                             995 non-null    float64\n",
            " 21  Gross Tertiary Education Enrollment (%)  995 non-null    float64\n",
            " 22  Population                               995 non-null    float64\n",
            " 23  Unemployment Rate                        995 non-null    float64\n",
            " 24  Urban Population                         995 non-null    float64\n",
            " 25  Latitude                                 995 non-null    float64\n",
            " 26  Longitude                                995 non-null    float64\n",
            "dtypes: float64(18), int64(2), object(7)\n",
            "memory usage: 210.0+ KB\n"
          ]
        }
      ]
    },
    {
      "cell_type": "code",
      "source": [
        "df = df.drop(columns = 'Rank')\n",
        "df.columns.tolist()\n",
        "\n",
        "duplicate_rows = df[df.duplicated()]\n",
        "print(duplicate_rows)"
      ],
      "metadata": {
        "colab": {
          "base_uri": "https://localhost:8080/"
        },
        "id": "Kq0OaWlMwcsi",
        "outputId": "0de34be6-7caf-4d60-9072-fc9e7153453a"
      },
      "execution_count": null,
      "outputs": [
        {
          "output_type": "stream",
          "name": "stdout",
          "text": [
            "Empty DataFrame\n",
            "Columns: [Youtuber, Subscribers, Video Views, Category, Title, Uploads, Country, Abbreviation, Channel Type, Video Views Rank, Country Rank, Channel Type Rank, Video Views For The Last 30 Days, Lowest Monthly Earnings, Highest Monthly Earnings, Lowest Yearly Earnings, Highest Yearly Earnings, Subscribers For Last 30 Days, Created Year, Created Month, Created Date, Gross Tertiary Education Enrollment (%), Population, Unemployment Rate, Urban Population, Latitude, Longitude]\n",
            "Index: []\n",
            "\n",
            "[0 rows x 27 columns]\n"
          ]
        }
      ]
    },
    {
      "cell_type": "code",
      "source": [
        "categorical_columns = df.select_dtypes(include = ['object']).columns\n",
        "df[categorical_columns] = df[categorical_columns].fillna('Unknown')\n",
        "numerical_columns = df.select_dtypes(include = ['float', 'int64']).columns\n",
        "df[numerical_columns] = df[numerical_columns].fillna(0)"
      ],
      "metadata": {
        "id": "VnlK55x81Me9"
      },
      "execution_count": null,
      "outputs": []
    },
    {
      "cell_type": "code",
      "source": [
        "# проверим есть ли пропущенные значения\n",
        "df.isnull().sum()"
      ],
      "metadata": {
        "colab": {
          "base_uri": "https://localhost:8080/"
        },
        "id": "LmEK5JFPws78",
        "outputId": "7f34aa37-b3b8-45d9-dac2-76469d1105e7"
      },
      "execution_count": null,
      "outputs": [
        {
          "output_type": "execute_result",
          "data": {
            "text/plain": [
              "Youtuber                                   0\n",
              "Subscribers                                0\n",
              "Video Views                                0\n",
              "Category                                   0\n",
              "Title                                      0\n",
              "Uploads                                    0\n",
              "Country                                    0\n",
              "Abbreviation                               0\n",
              "Channel Type                               0\n",
              "Video Views Rank                           0\n",
              "Country Rank                               0\n",
              "Channel Type Rank                          0\n",
              "Video Views For The Last 30 Days           0\n",
              "Lowest Monthly Earnings                    0\n",
              "Highest Monthly Earnings                   0\n",
              "Lowest Yearly Earnings                     0\n",
              "Highest Yearly Earnings                    0\n",
              "Subscribers For Last 30 Days               0\n",
              "Created Year                               0\n",
              "Created Month                              0\n",
              "Created Date                               0\n",
              "Gross Tertiary Education Enrollment (%)    0\n",
              "Population                                 0\n",
              "Unemployment Rate                          0\n",
              "Urban Population                           0\n",
              "Latitude                                   0\n",
              "Longitude                                  0\n",
              "dtype: int64"
            ]
          },
          "metadata": {},
          "execution_count": 17
        }
      ]
    },
    {
      "cell_type": "markdown",
      "source": [
        "# Кодирование категориальных признаков"
      ],
      "metadata": {
        "id": "yIDxUy9A1lD2"
      }
    },
    {
      "cell_type": "code",
      "source": [
        "from sklearn.preprocessing import LabelEncoder\n",
        "df['Category'].unique()"
      ],
      "metadata": {
        "colab": {
          "base_uri": "https://localhost:8080/"
        },
        "id": "4bgXqpSDyVsU",
        "outputId": "a07f1532-61e9-4095-b3df-b1ed06c4a37d"
      },
      "execution_count": null,
      "outputs": [
        {
          "output_type": "execute_result",
          "data": {
            "text/plain": [
              "array(['Music', 'Film & Animation', 'Entertainment', 'Education', 'Shows',\n",
              "       'Unknown', 'People & Blogs', 'Gaming', 'Sports', 'Howto & Style',\n",
              "       'News & Politics', 'Comedy', 'Trailers', 'Nonprofits & Activism',\n",
              "       'Science & Technology', 'Movies', 'Pets & Animals',\n",
              "       'Autos & Vehicles', 'Travel & Events'], dtype=object)"
            ]
          },
          "metadata": {},
          "execution_count": 27
        }
      ]
    },
    {
      "cell_type": "code",
      "source": [
        "le = LabelEncoder()\n",
        "cat_le = le.fit_transform(df['Category'])\n",
        "le.classes_"
      ],
      "metadata": {
        "colab": {
          "base_uri": "https://localhost:8080/"
        },
        "id": "oJ3N2dVhz-aZ",
        "outputId": "1bdffe1d-2a8c-4c6c-a7ac-12558c65c0cd"
      },
      "execution_count": null,
      "outputs": [
        {
          "output_type": "execute_result",
          "data": {
            "text/plain": [
              "array(['Autos & Vehicles', 'Comedy', 'Education', 'Entertainment',\n",
              "       'Film & Animation', 'Gaming', 'Howto & Style', 'Movies', 'Music',\n",
              "       'News & Politics', 'Nonprofits & Activism', 'People & Blogs',\n",
              "       'Pets & Animals', 'Science & Technology', 'Shows', 'Sports',\n",
              "       'Trailers', 'Travel & Events', 'Unknown'], dtype=object)"
            ]
          },
          "metadata": {},
          "execution_count": 29
        }
      ]
    },
    {
      "cell_type": "code",
      "source": [
        "np.unique(cat_le)"
      ],
      "metadata": {
        "colab": {
          "base_uri": "https://localhost:8080/"
        },
        "id": "ym_kYDbn0UcE",
        "outputId": "e2d6966d-0a16-4cea-f239-e7ec5dc07cea"
      },
      "execution_count": null,
      "outputs": [
        {
          "output_type": "execute_result",
          "data": {
            "text/plain": [
              "array([ 0,  1,  2,  3,  4,  5,  6,  7,  8,  9, 10, 11, 12, 13, 14, 15, 16,\n",
              "       17, 18])"
            ]
          },
          "metadata": {},
          "execution_count": 31
        }
      ]
    },
    {
      "cell_type": "code",
      "source": [
        "le.inverse_transform([ 0,  1,  2,  3,  4,  5,  6,  7,  8,  9, 10, 11, 12, 13, 14, 15, 16, 17, 18])"
      ],
      "metadata": {
        "colab": {
          "base_uri": "https://localhost:8080/"
        },
        "id": "xZhVKNjX0fo_",
        "outputId": "7743abae-540f-4e55-c912-a2130be5c203"
      },
      "execution_count": null,
      "outputs": [
        {
          "output_type": "execute_result",
          "data": {
            "text/plain": [
              "array(['Autos & Vehicles', 'Comedy', 'Education', 'Entertainment',\n",
              "       'Film & Animation', 'Gaming', 'Howto & Style', 'Movies', 'Music',\n",
              "       'News & Politics', 'Nonprofits & Activism', 'People & Blogs',\n",
              "       'Pets & Animals', 'Science & Technology', 'Shows', 'Sports',\n",
              "       'Trailers', 'Travel & Events', 'Unknown'], dtype=object)"
            ]
          },
          "metadata": {},
          "execution_count": 32
        }
      ]
    },
    {
      "cell_type": "markdown",
      "source": [
        "# Масштабирование"
      ],
      "metadata": {
        "id": "hbNoPqjN3WYl"
      }
    },
    {
      "cell_type": "code",
      "source": [
        "from sklearn.preprocessing import MinMaxScaler, StandardScaler, Normalizer\n",
        "sc1 = MinMaxScaler()\n",
        "sc1_data = sc1.fit_transform(df[['Subscribers']])"
      ],
      "metadata": {
        "id": "X2sNPoCOx4wj"
      },
      "execution_count": null,
      "outputs": []
    },
    {
      "cell_type": "code",
      "source": [
        "plt.hist(df['Subscribers'], 50)\n",
        "plt.show()"
      ],
      "metadata": {
        "colab": {
          "base_uri": "https://localhost:8080/",
          "height": 453
        },
        "id": "_QxLPiV23cU5",
        "outputId": "fc2677a1-5169-43cb-84cb-52839b0fb22f"
      },
      "execution_count": null,
      "outputs": [
        {
          "output_type": "display_data",
          "data": {
            "text/plain": [
              "<Figure size 640x480 with 1 Axes>"
            ],
            "image/png": "[encoded data removed]"
          },
          "metadata": {}
        }
      ]
    },
    {
      "cell_type": "code",
      "source": [
        "plt.hist(sc1_data, 50)\n",
        "plt.show()"
      ],
      "metadata": {
        "colab": {
          "base_uri": "https://localhost:8080/",
          "height": 434
        },
        "id": "S5vK4g6O3chE",
        "outputId": "4ef65968-ec26-4bd4-8239-017ffe768c1b"
      },
      "execution_count": null,
      "outputs": [
        {
          "output_type": "display_data",
          "data": {
            "text/plain": [
              "<Figure size 640x480 with 1 Axes>"
            ],
            "image/png": "[encoded data removed]"
          },
          "metadata": {}
        }
      ]
    }
  ]
}